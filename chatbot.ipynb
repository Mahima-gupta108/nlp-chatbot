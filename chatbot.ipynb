{
 "cells": [
  {
   "cell_type": "markdown",
   "id": "2e127dc8",
   "metadata": {},
   "source": [
    "skelearn.dir()"
   ]
  },
  {
   "cell_type": "code",
   "execution_count": 7,
   "id": "47bd0b67",
   "metadata": {},
   "outputs": [
    {
     "name": "stderr",
     "output_type": "stream",
     "text": [
      "[nltk_data] Downloading package punkt_tab to\n",
      "[nltk_data]     C:\\Users\\DELL\\AppData\\Roaming\\nltk_data...\n",
      "[nltk_data]   Unzipping tokenizers\\punkt_tab.zip.\n",
      "[nltk_data] Downloading package wordnet to\n",
      "[nltk_data]     C:\\Users\\DELL\\AppData\\Roaming\\nltk_data...\n",
      "[nltk_data]   Package wordnet is already up-to-date!\n"
     ]
    },
    {
     "data": {
      "text/plain": [
       "True"
      ]
     },
     "execution_count": 7,
     "metadata": {},
     "output_type": "execute_result"
    }
   ],
   "source": [
    "import json\n",
    "import string\n",
    "import nltk\n",
    "import sklearn\n",
    "from sklearn.feature_extraction.text import CountVectorizer\n",
    "from sklearn.metrics.pairwise import cosine_similarity\n",
    "\n",
    "nltk.download('punkt_tab')\n",
    "nltk.download('wordnet')"
   ]
  },
  {
   "cell_type": "code",
   "execution_count": 2,
   "id": "40267003",
   "metadata": {},
   "outputs": [],
   "source": [
    "qna_list={\n",
    "          \"hey\":\"hi,how are you\",\n",
    "          \"hello\":\"hello! any new plans for today\",\n",
    "          \"what's your name\":\"i am your virtual friend i do not have any particular name\",\n",
    "          \"what are you doing\":\"i am chatting with you\",\n",
    "          \"tell me a joke\":\"whay did the computer go to the doctor? because it had a virus\",\n",
    "          \"bye\":\"goodbye have a nice day\"\n",
    "        }\n"
   ]
  },
  {
   "cell_type": "code",
   "execution_count": 5,
   "id": "622af298",
   "metadata": {},
   "outputs": [
    {
     "name": "stdout",
     "output_type": "stream",
     "text": [
      "saved to json\n"
     ]
    }
   ],
   "source": [
    "with open(\"qna_list.json\",\"w\") as f:\n",
    "    json.dump(qna_list, f,indent=5)\n",
    "print(\"saved to json\")\n"
   ]
  },
  {
   "cell_type": "code",
   "execution_count": 8,
   "id": "23c77ab6",
   "metadata": {},
   "outputs": [],
   "source": [
    "with open(\"qna_list.json\",\"r\") as f:\n",
    "    qna_list=json.load(f)"
   ]
  },
  {
   "cell_type": "code",
   "execution_count": 9,
   "id": "7e4d0f73",
   "metadata": {},
   "outputs": [],
   "source": [
    "lemmer=nltk.stem.WordNetLemmatizer()\n",
    "remove_punct_dict=dict((ord(punct),None) for punct in string.punctuation)\n",
    "def lemtokens(tokens):\n",
    "    return [lemmer.lemmatize(token) for token in tokens]\n",
    "\n",
    "def normalize(text):\n",
    "    return lemtokens(nltk.word_tokens(text.lower().translate(remove_punct_dict)))"
   ]
  },
  {
   "cell_type": "code",
   "execution_count": null,
   "id": "59c87040",
   "metadata": {},
   "outputs": [],
   "source": [
    "def generate_response(user_input):\n",
    "    user_input=user_input.lower()\n",
    "    questions=list(qna_list.keys())\n",
    "    questions.append(user_input)\n",
    "    vect=CountVectorizer(tokenizer=normalize).fit_transform(questions)\n",
    "    similarity=cosine_similarity(vect[-1],vect[:-1])\n",
    "    idx=similarity.argmax()\n",
    "    score=similarity[0][idx]\n",
    "    if score <0.3:\n",
    "        return\"i am sorry, i don't understand! could you please rephrase it\"\n",
    "    else:\n",
    "        return qna_list[questions[idx]]\n",
    "    print(\"bot: hello! aske me anything or type 'exit' to quit\")\n",
    "    while True:\n",
    "        user_input=input(\"you:\")\n",
    "        if user_input.lower()=='exit':\n",
    "            print(\"bot:goodbye!\")\n",
    "        print(\"bot:\",generate_response(user_input))\n",
    "        \"tell me a joke\""
   ]
  }
 ],
 "metadata": {
  "kernelspec": {
   "display_name": "Python 3",
   "language": "python",
   "name": "python3"
  },
  "language_info": {
   "codemirror_mode": {
    "name": "ipython",
    "version": 3
   },
   "file_extension": ".py",
   "mimetype": "text/x-python",
   "name": "python",
   "nbconvert_exporter": "python",
   "pygments_lexer": "ipython3",
   "version": "3.12.4"
  }
 },
 "nbformat": 4,
 "nbformat_minor": 5
}
